{
 "cells": [
  {
   "cell_type": "code",
   "execution_count": 5,
   "metadata": {},
   "outputs": [],
   "source": [
    "import polars as pl"
   ]
  },
  {
   "cell_type": "code",
   "execution_count": 100,
   "metadata": {},
   "outputs": [],
   "source": [
    "cycle_df = pl.read_csv(\"./data/cycling_workout_codes.csv\")\n",
    "run_df = pl.read_csv(\"./data/running_workout_codes.csv\")\n",
    "swim_df = pl.read_csv(\"./data/swimming_workout_codes.csv\")\n",
    "brick_df = pl.read_csv(\"./data/brick_workout_codes.csv\")"
   ]
  },
  {
   "cell_type": "code",
   "execution_count": 101,
   "metadata": {},
   "outputs": [
    {
     "name": "stdout",
     "output_type": "stream",
     "text": [
      "10 min Z1\n",
      "2 × (20 min Z2/5 min Z1)\n",
      "10 min Z1\n",
      "\n",
      "5 min Z1\n",
      "15 min Z2\n",
      "\n",
      "15 min Z1\n",
      "5 × (2.5 min Z4/5 min Z1)\n",
      "10 min Z1\n",
      "\n",
      "5 min Z1\n",
      "5 min Z2\n",
      "12 × (1 min Z5/2 min Z1)\n",
      "5 min Z1\n",
      "\n",
      "250 Z1\n",
      "400 Z3/120\" rest\n",
      "200 Z3/120\" rest\n",
      "1000 Z1\n",
      "\n"
     ]
    }
   ],
   "source": [
    "import re\n",
    "\n",
    "def format_workout(input_str: str) -> str:\n",
    "    output_str = input_str\n",
    "\n",
    "    output_str = output_str.replace(\" in \", \" \")\n",
    "    output_str = output_str.replace(\",\", \" \")\n",
    "    output_str = output_str.replace(\";\", \" \")\n",
    "    output_str = output_str.replace(\"x\", \"×\")\n",
    "    \n",
    "    ## Store groups of parenthesis\n",
    "    groups = re.findall(r'\\(([^)]+)', output_str)\n",
    "    for i, group in enumerate(groups):\n",
    "        output_str = output_str.replace(f\"({group})\", f\"_GROUP{i}_\\n\")\n",
    "\n",
    "    ## Split on zones\n",
    "    zones = re.findall(r'Z[1-5][^/]', output_str)\n",
    "    for zone in zones: \n",
    "        output_str = output_str.replace(zone, f\"{zone}\\n\")\n",
    "    \n",
    "    ## Ensure new line after rest\n",
    "    rests = re.findall(r'[0-9]*.?rest', output_str)\n",
    "    for rest in rests: \n",
    "        output_str = output_str.replace(rest, f\"{rest}\\n\")\n",
    "    \n",
    "    ## Restore parenthesis\n",
    "    for i, group in enumerate(groups):\n",
    "        output_str = output_str.replace(f\"_GROUP{i}_\", f\"({group})\")\n",
    "    \n",
    "    ## Clean output spacing\n",
    "    clean_output = \"\"\n",
    "    for line in output_str.split(\"\\n\"):\n",
    "        if line.strip() != \"\":\n",
    "            clean_output += line.strip() + \"\\n\"\n",
    "\n",
    "    return clean_output\n",
    "\n",
    "\n",
    "if __name__ == '__main__':\n",
    "    print(format_workout('10 min Z1 2 x (20 min Z2/5 min Z1) 10 min Z1'))\n",
    "    print(format_workout('5 min in Z1 15 min Z2'))\n",
    "    print(format_workout('15 min Z1, 5 x (2.5 min Z4/5 min Z1), 10 min Z1'))\n",
    "    print(format_workout('5 min Z1;5 min Z2;12 × (1 min Z5/2 min Z1);5 min Z1'))\n",
    "    print(format_workout('250 Z1 400 Z3/120\" rest 200 Z3/120\" rest 1000 Z1'))"
   ]
  },
  {
   "cell_type": "code",
   "execution_count": 103,
   "metadata": {},
   "outputs": [
    {
     "name": "stdout",
     "output_type": "stream",
     "text": [
      "Rows: 6\n",
      "Columns: 8\n",
      "$ CODE        <str> 'BR1', 'BR2', 'BR3', 'BR4', 'BR5', 'BR6'\n",
      "$ DURATION    <i64> 90, 120, 61, 89, 112, 135\n",
      "$ Z1          <i64> 30, 30, 15, 20, 20, 20\n",
      "$ Z2          <i64> 60, 90, None, None, None, None\n",
      "$ Z3          <i64> None, None, 46, 69, 92, 115\n",
      "$ Z4          <str> None, None, None, None, None, None\n",
      "$ Z5          <str> None, None, None, None, None, None\n",
      "$ DESCRIPTION <str> 'Bike 20 min Z1\\n2 × (Run 10 min Z2 → Bike 20 min Z2)\\n10 min Z1\\n', 'Bike 20 min Z1\\n3 × (Run 10 min Z2 → Bike 20 min Z2)\\n10 min Z1\\n', 'Bike 15 min Z1\\n2 × (Run 7 min Z3/3 min Z1 → Bike 10 min Z3/3 min Z1)\\n', 'Bike 15 min Z1\\n3 × (Run 7 min Z3/3 min Z1 → Bike 10 min Z3/3 min Z1)\\n5 min Z1\\n', 'Bike 15 min Z1\\n4 × (Run 7 min Z3/3 min Z1 → Bike 10 min Z3/3 min Z1)\\n5 min Z1\\n', 'Bike 15 min Z1\\n5 × (Run 7 min Z3/3 min Z1 → Bike 10 min Z3/3 min Z1)\\n5 min Z1\\n'\n",
      "\n"
     ]
    }
   ],
   "source": [
    "cycle_df = cycle_df.with_columns([\n",
    "    (pl.col(\"DESCRIPTION\").map_elements(format_workout, return_dtype=str)).alias(\"DESCRIPTION\")\n",
    "])\n",
    "run_df = run_df.with_columns([\n",
    "    (pl.col(\"DESCRIPTION\").map_elements(format_workout, return_dtype=str)).alias(\"DESCRIPTION\")\n",
    "])\n",
    "swim_df = swim_df.with_columns([\n",
    "    (pl.col(\"DESCRIPTION\").map_elements(format_workout, return_dtype=str)).alias(\"DESCRIPTION\")\n",
    "])\n",
    "brick_df = brick_df.with_columns([\n",
    "    (pl.col(\"DESCRIPTION\").map_elements(format_workout, return_dtype=str)).alias(\"DESCRIPTION\")\n",
    "])\n",
    "\n",
    "# cycle_df.filter(pl.col(\"CLEAN_DESCRIPTION\") == \"\").glimpse()\n",
    "brick_df.glimpse()"
   ]
  },
  {
   "cell_type": "code",
   "execution_count": 98,
   "metadata": {},
   "outputs": [],
   "source": [
    "# for row in swim_df.rows(named=True):\n",
    "#     if \"rest\" in row[\"DESCRIPTION\"]:\n",
    "#         print(row[\"CODE\"], row[\"DESCRIPTION\"], sep=\"\\t\")\n",
    "#         print(row[\"CLEAN_DESCRIPTION\"])\n",
    "\n",
    "    "
   ]
  },
  {
   "cell_type": "code",
   "execution_count": null,
   "metadata": {},
   "outputs": [],
   "source": [
    "with open(\"/Users/thomastone/elevated-training/backend/data/swim_workout_codes.csv\", \"w\") as f:\n",
    "    swim_df.write_csv(f)\n",
    "with open(\"/Users/thomastone/elevated-training/backend/data/cycle_workout_codes.csv\", \"w\") as f:\n",
    "    cycle_df.write_csv(f)\n",
    "with open(\"/Users/thomastone/elevated-training/backend/data/run_workout_codes.csv\", \"w\") as f:\n",
    "    run_df.write_csv(f)\n",
    "with open(\"/Users/thomastone/elevated-training/backend/data/brick_workout_codes.csv\", \"w\") as f:\n",
    "    brick_df.write_csv(f)"
   ]
  },
  {
   "cell_type": "code",
   "execution_count": null,
   "metadata": {},
   "outputs": [],
   "source": []
  }
 ],
 "metadata": {
  "kernelspec": {
   "display_name": "ironman-training-Mo5_iXF5",
   "language": "python",
   "name": "python3"
  },
  "language_info": {
   "codemirror_mode": {
    "name": "ipython",
    "version": 3
   },
   "file_extension": ".py",
   "mimetype": "text/x-python",
   "name": "python",
   "nbconvert_exporter": "python",
   "pygments_lexer": "ipython3",
   "version": "3.13.2"
  }
 },
 "nbformat": 4,
 "nbformat_minor": 2
}
